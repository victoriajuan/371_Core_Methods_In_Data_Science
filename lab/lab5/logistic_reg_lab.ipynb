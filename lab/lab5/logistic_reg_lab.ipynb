{
 "cells": [
  {
   "cell_type": "markdown",
   "metadata": {},
   "source": [
    "# Logistic Regression \n",
    "\n",
    "INFO 371 Spring 2018\n",
    "\n",
    "Lab created by: Christie Gan\n",
    "\n",
    "Deadline: 5/2/18 11:59PM\n",
    "\n",
    "Last Edit: 4/30/2018"
   ]
  },
  {
   "cell_type": "markdown",
   "metadata": {},
   "source": [
    "In linear regression, the outcome (dependent variable) is continuous. It can have any one of an infinite number of possible values.\n",
    "\n",
    "In logistic regression, the outcome (dependent variable) has only a limited number of possible values. So, it is used when the dependent variable is categorical in nature. With the dependent variable categorical, we know this regression will be classifying data into seperate groups. We'll look at iris data on the different species of flowers. Our task is to predict the species based on the flower data. The data contains sepal and petal information. Based on the sepal and petal sizes, we'll classify the flower species using logistic regression and regularization. The dataset includes leaf data for three species of iris: setosa, virginica, and versicolor"
   ]
  },
  {
   "cell_type": "code",
   "execution_count": null,
   "metadata": {
    "collapsed": true
   },
   "outputs": [],
   "source": [
    "# import packages\n",
    "from sklearn.linear_model import LogisticRegression\n",
    "import seaborn as sb\n",
    "#and any other packages you want to use"
   ]
  },
  {
   "cell_type": "code",
   "execution_count": null,
   "metadata": {
    "collapsed": true
   },
   "outputs": [],
   "source": [
    "# Load the iris dataset \n",
    "from sklearn import datasets\n",
    "iris = datasets.load_iris()"
   ]
  },
  {
   "cell_type": "markdown",
   "metadata": {},
   "source": [
    "### 1.) Learn more about the dataset using .DESCR. Print out the dataset's target and features."
   ]
  },
  {
   "cell_type": "code",
   "execution_count": null,
   "metadata": {
    "collapsed": true
   },
   "outputs": [],
   "source": []
  },
  {
   "cell_type": "markdown",
   "metadata": {},
   "source": [
    "### 2.) Draw various graphs that visualize the different species by color. \n",
    "Select two of these features and\n",
    "create a scatterplot where you label the different species by\n",
    "different color. Do this for different combinations of two features on the axes."
   ]
  },
  {
   "cell_type": "code",
   "execution_count": null,
   "metadata": {
    "collapsed": true
   },
   "outputs": [],
   "source": []
  },
  {
   "cell_type": "markdown",
   "metadata": {},
   "source": [
    "### 3.) Classify the flowers' species based on the petal and sepal data (predictors). Since the standard logistic regression can only handle two groups, we only select two species at time. Select a subset of data that only contains setosa and virginica observations. Estimate a logistic regression model on this subset using all 4 features (petal length and width, sepal length and width). \n",
    "\n",
    "Include:\n",
    "* printing the estimated probability coefficients \n",
    "* categorize the same observations to the species \n",
    "* Compute your prediction accuracy, precision, and recall"
   ]
  },
  {
   "cell_type": "code",
   "execution_count": null,
   "metadata": {
    "collapsed": true
   },
   "outputs": [],
   "source": []
  }
 ],
 "metadata": {
  "kernelspec": {
   "display_name": "Python 3",
   "language": "python",
   "name": "python3"
  },
  "language_info": {
   "codemirror_mode": {
    "name": "ipython",
    "version": 3
   },
   "file_extension": ".py",
   "mimetype": "text/x-python",
   "name": "python",
   "nbconvert_exporter": "python",
   "pygments_lexer": "ipython3",
   "version": "3.6.2"
  }
 },
 "nbformat": 4,
 "nbformat_minor": 2
}
