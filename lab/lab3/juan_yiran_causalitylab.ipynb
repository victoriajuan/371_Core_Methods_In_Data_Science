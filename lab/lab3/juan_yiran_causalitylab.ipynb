{
 "cells": [
  {
   "cell_type": "markdown",
   "metadata": {
    "ein.tags": "worksheet-0",
    "slideshow": {
     "slide_type": "-"
    }
   },
   "source": [
    "# Lab 04: Linear Regression and Causality\n",
    "\n",
    "This lab asks you to do two tasks:\n",
    "\n",
    "First, to estimate the effect of Right Hearth\n",
    "Catheterization (RHC)--inserting a tiny hollow tube along the arterial into\n",
    "the right side of your heart.  It is often done for diagnostical\n",
    "purposes (it allows to get different measures right in the heart) and\n",
    "it's usually considered safe.\n",
    "\n",
    "We will use a dataset about RHC for critically ill patients and see\n",
    "if RHC is related to increased death rate.  The dataset is downloaded\n",
    "from [Vanderbilt\n",
    "Biostats](http://biostat.mc.vanderbilt.edu/wiki/Main/DataSets) and\n",
    "more information is available at\n",
    "[http://biostat.mc.vanderbilt.edu/wiki/pub/Main/DataSets/rhc.html](http://biostat.mc.vanderbilt.edu/wiki/pub/Main/DataSets/rhc.html).\n",
    "\n",
    "Second, you have to create (or re-create) the design matrices of the\n",
    "first problem, analyze their properties, and compute the regression\n",
    "coefficients of the first part \"manually\", i.e. by a simple matrix\n",
    "expression on computer.\n"
   ]
  },
  {
   "cell_type": "markdown",
   "metadata": {
    "ein.tags": "worksheet-0",
    "slideshow": {
     "slide_type": "-"
    }
   },
   "source": [
    "## 1 Get Ready\n",
    "\n",
    "Load the data.  A tab-separated version is available on canvas (files/data).\n",
    "\n",
    "1. How many observation and variables do we have?\n",
    "2. The most important variables we use below are _death_ (patient\n",
    "death recorded/not recorded) and\n",
    "_swang1_ (rhc performed/not performed).  How are these variables coded?"
   ]
  },
  {
   "cell_type": "code",
   "execution_count": 27,
   "metadata": {},
   "outputs": [],
   "source": [
    "import numpy as np\n",
    "import pandas as pd\n",
    "from scipy import stats # ANOVA\n",
    "from sklearn.linear_model import LinearRegression"
   ]
  },
  {
   "cell_type": "code",
   "execution_count": 20,
   "metadata": {},
   "outputs": [
    {
     "data": {
      "text/html": [
       "<div>\n",
       "<style>\n",
       "    .dataframe thead tr:only-child th {\n",
       "        text-align: right;\n",
       "    }\n",
       "\n",
       "    .dataframe thead th {\n",
       "        text-align: left;\n",
       "    }\n",
       "\n",
       "    .dataframe tbody tr th {\n",
       "        vertical-align: top;\n",
       "    }\n",
       "</style>\n",
       "<table border=\"1\" class=\"dataframe\">\n",
       "  <thead>\n",
       "    <tr style=\"text-align: right;\">\n",
       "      <th></th>\n",
       "      <th>Unnamed: 0</th>\n",
       "      <th>cat1</th>\n",
       "      <th>cat2</th>\n",
       "      <th>ca</th>\n",
       "      <th>sadmdte</th>\n",
       "      <th>dschdte</th>\n",
       "      <th>dthdte</th>\n",
       "      <th>lstctdte</th>\n",
       "      <th>death</th>\n",
       "      <th>cardiohx</th>\n",
       "      <th>...</th>\n",
       "      <th>meta</th>\n",
       "      <th>hema</th>\n",
       "      <th>seps</th>\n",
       "      <th>trauma</th>\n",
       "      <th>ortho</th>\n",
       "      <th>adld3p</th>\n",
       "      <th>urin1</th>\n",
       "      <th>race</th>\n",
       "      <th>income</th>\n",
       "      <th>ptid</th>\n",
       "    </tr>\n",
       "  </thead>\n",
       "  <tbody>\n",
       "    <tr>\n",
       "      <th>0</th>\n",
       "      <td>1</td>\n",
       "      <td>COPD</td>\n",
       "      <td>NaN</td>\n",
       "      <td>Yes</td>\n",
       "      <td>11142</td>\n",
       "      <td>11151.0</td>\n",
       "      <td>NaN</td>\n",
       "      <td>11382</td>\n",
       "      <td>No</td>\n",
       "      <td>0</td>\n",
       "      <td>...</td>\n",
       "      <td>No</td>\n",
       "      <td>No</td>\n",
       "      <td>No</td>\n",
       "      <td>No</td>\n",
       "      <td>No</td>\n",
       "      <td>0.0</td>\n",
       "      <td>NaN</td>\n",
       "      <td>white</td>\n",
       "      <td>Under $11k</td>\n",
       "      <td>5</td>\n",
       "    </tr>\n",
       "    <tr>\n",
       "      <th>1</th>\n",
       "      <td>2</td>\n",
       "      <td>MOSF w/Sepsis</td>\n",
       "      <td>NaN</td>\n",
       "      <td>No</td>\n",
       "      <td>11799</td>\n",
       "      <td>11844.0</td>\n",
       "      <td>11844.0</td>\n",
       "      <td>11844</td>\n",
       "      <td>Yes</td>\n",
       "      <td>1</td>\n",
       "      <td>...</td>\n",
       "      <td>No</td>\n",
       "      <td>No</td>\n",
       "      <td>Yes</td>\n",
       "      <td>No</td>\n",
       "      <td>No</td>\n",
       "      <td>NaN</td>\n",
       "      <td>1437.0</td>\n",
       "      <td>white</td>\n",
       "      <td>Under $11k</td>\n",
       "      <td>7</td>\n",
       "    </tr>\n",
       "    <tr>\n",
       "      <th>2</th>\n",
       "      <td>3</td>\n",
       "      <td>MOSF w/Malignancy</td>\n",
       "      <td>MOSF w/Sepsis</td>\n",
       "      <td>Yes</td>\n",
       "      <td>12083</td>\n",
       "      <td>12143.0</td>\n",
       "      <td>NaN</td>\n",
       "      <td>12400</td>\n",
       "      <td>No</td>\n",
       "      <td>0</td>\n",
       "      <td>...</td>\n",
       "      <td>No</td>\n",
       "      <td>No</td>\n",
       "      <td>No</td>\n",
       "      <td>No</td>\n",
       "      <td>No</td>\n",
       "      <td>NaN</td>\n",
       "      <td>599.0</td>\n",
       "      <td>white</td>\n",
       "      <td>$25-$50k</td>\n",
       "      <td>9</td>\n",
       "    </tr>\n",
       "    <tr>\n",
       "      <th>3</th>\n",
       "      <td>4</td>\n",
       "      <td>ARF</td>\n",
       "      <td>NaN</td>\n",
       "      <td>No</td>\n",
       "      <td>11146</td>\n",
       "      <td>11183.0</td>\n",
       "      <td>11183.0</td>\n",
       "      <td>11182</td>\n",
       "      <td>Yes</td>\n",
       "      <td>0</td>\n",
       "      <td>...</td>\n",
       "      <td>No</td>\n",
       "      <td>No</td>\n",
       "      <td>No</td>\n",
       "      <td>No</td>\n",
       "      <td>No</td>\n",
       "      <td>NaN</td>\n",
       "      <td>NaN</td>\n",
       "      <td>white</td>\n",
       "      <td>$11-$25k</td>\n",
       "      <td>10</td>\n",
       "    </tr>\n",
       "    <tr>\n",
       "      <th>4</th>\n",
       "      <td>5</td>\n",
       "      <td>MOSF w/Sepsis</td>\n",
       "      <td>NaN</td>\n",
       "      <td>No</td>\n",
       "      <td>12035</td>\n",
       "      <td>12037.0</td>\n",
       "      <td>12037.0</td>\n",
       "      <td>12036</td>\n",
       "      <td>Yes</td>\n",
       "      <td>0</td>\n",
       "      <td>...</td>\n",
       "      <td>No</td>\n",
       "      <td>No</td>\n",
       "      <td>No</td>\n",
       "      <td>No</td>\n",
       "      <td>No</td>\n",
       "      <td>NaN</td>\n",
       "      <td>64.0</td>\n",
       "      <td>white</td>\n",
       "      <td>Under $11k</td>\n",
       "      <td>11</td>\n",
       "    </tr>\n",
       "  </tbody>\n",
       "</table>\n",
       "<p>5 rows × 63 columns</p>\n",
       "</div>"
      ],
      "text/plain": [
       "   Unnamed: 0               cat1           cat2   ca  sadmdte  dschdte  \\\n",
       "0           1               COPD            NaN  Yes    11142  11151.0   \n",
       "1           2      MOSF w/Sepsis            NaN   No    11799  11844.0   \n",
       "2           3  MOSF w/Malignancy  MOSF w/Sepsis  Yes    12083  12143.0   \n",
       "3           4                ARF            NaN   No    11146  11183.0   \n",
       "4           5      MOSF w/Sepsis            NaN   No    12035  12037.0   \n",
       "\n",
       "    dthdte  lstctdte death  cardiohx  ...   meta  hema  seps  trauma  ortho  \\\n",
       "0      NaN     11382    No         0  ...     No    No    No      No     No   \n",
       "1  11844.0     11844   Yes         1  ...     No    No   Yes      No     No   \n",
       "2      NaN     12400    No         0  ...     No    No    No      No     No   \n",
       "3  11183.0     11182   Yes         0  ...     No    No    No      No     No   \n",
       "4  12037.0     12036   Yes         0  ...     No    No    No      No     No   \n",
       "\n",
       "   adld3p   urin1   race      income  ptid  \n",
       "0     0.0     NaN  white  Under $11k     5  \n",
       "1     NaN  1437.0  white  Under $11k     7  \n",
       "2     NaN   599.0  white    $25-$50k     9  \n",
       "3     NaN     NaN  white    $11-$25k    10  \n",
       "4     NaN    64.0  white  Under $11k    11  \n",
       "\n",
       "[5 rows x 63 columns]"
      ]
     },
     "execution_count": 20,
     "metadata": {},
     "output_type": "execute_result"
    }
   ],
   "source": [
    "rhc_df= pd.read_csv('rhc.csv')\n",
    "rhc_df.head()"
   ]
  },
  {
   "cell_type": "code",
   "execution_count": 21,
   "metadata": {},
   "outputs": [
    {
     "data": {
      "text/plain": [
       "(5735, 63)"
      ]
     },
     "metadata": {},
     "output_type": "display_data"
    },
    {
     "data": {
      "text/plain": [
       "pandas.core.series.Series"
      ]
     },
     "metadata": {},
     "output_type": "display_data"
    },
    {
     "data": {
      "text/plain": [
       "pandas.core.series.Series"
      ]
     },
     "metadata": {},
     "output_type": "display_data"
    }
   ],
   "source": [
    "# How many observation and variables do we have?\n",
    "# 5735 observations and 63 variables\n",
    "display(rhc_df.shape)\n",
    "\n",
    "# The most important variables we use below are death (patient death recorded/not recorded) \n",
    "# and swang1 rhc performed/not performed). How are these variables coded?\n",
    "display(type(rhc_df.death))\n",
    "display(type(rhc_df.swang1))"
   ]
  },
  {
   "cell_type": "markdown",
   "metadata": {
    "ein.tags": "worksheet-0",
    "slideshow": {
     "slide_type": "-"
    }
   },
   "source": [
    "## 2 Cross-Sectional Estimator\n",
    "\n",
    "Estimate, using linear regression, how is the RHC related to mortality.\n",
    "\n",
    "We start easy: let's just find the relationship between recorded death\n",
    "and rhc.  The important variables are\n",
    "\n",
    "* _death_: patient death recorded/not recorded\n",
    "* _swang1_: rhc performed/not performed\n",
    "\n",
    "This is called \"cross-sectional estimator\", we just compare\n",
    "cross-section of individuals who received and did not receive RHC.\n",
    "\n",
    "Obviously, this is a very crude measure because the hospitals track\n",
    "patients over different time periods, and if contact is lost early,\n",
    "the death may not be recorded.  Another obvious problem is that the\n",
    "patients have very different medical conditions, a factor that\n",
    "most likely plays a role in the decision whether to perform RHC.\n"
   ]
  },
  {
   "cell_type": "code",
   "execution_count": 64,
   "metadata": {},
   "outputs": [
    {
     "name": "stdout",
     "output_type": "stream",
     "text": [
      "formula: y = [ 0.05250157]x + [ 0.34674615]\n",
      "Score:  0.00266293985003\n"
     ]
    }
   ],
   "source": [
    "rhc_df[\"death\"] = rhc_df[\"death\"].replace(\"Yes\", 1)\n",
    "rhc_df[\"death\"] = rhc_df[\"death\"].replace(\"No\", 0)\n",
    "rhc_df[\"swang1\"] = rhc_df[\"swang1\"].replace(\"RHC\", 1)\n",
    "rhc_df[\"swang1\"] = rhc_df[\"swang1\"].replace(\"No RHC\", 0)\n",
    "\n",
    "X = rhc_df[[\"death\"]]\n",
    "Y = rhc_df[[\"swang1\"]]\n",
    "\n",
    "reg = LinearRegression()\n",
    "mdl = reg.fit(X, Y)\n",
    "\n",
    "m = mdl.coef_[0]\n",
    "b = mdl.intercept_\n",
    "print(\"formula: y = {0}x + {1}\".format(m, b))\n",
    "print('Score: ', reg.score(X, Y))"
   ]
  },
  {
   "cell_type": "markdown",
   "metadata": {
    "ein.tags": "worksheet-0",
    "slideshow": {
     "slide_type": "-"
    }
   },
   "source": [
    "Comment your results.\n",
    "### y = 0.052501566256730345x + 0.34674615002483866"
   ]
  },
  {
   "cell_type": "markdown",
   "metadata": {
    "ein.tags": "worksheet-0",
    "slideshow": {
     "slide_type": "-"
    }
   },
   "source": [
    "## 3 Address some of the issues\n",
    "\n",
    "Now let's try to address some of the issues with the estimator above.\n",
    "The dataset includes many other patient descriptors.\n"
   ]
  },
  {
   "cell_type": "markdown",
   "metadata": {
    "ein.tags": "worksheet-0",
    "slideshow": {
     "slide_type": "-"
    }
   },
   "source": [
    "### 3.1 Let's include 'age' and 'sex'.\n",
    "How are these coded?\n"
   ]
  },
  {
   "cell_type": "code",
   "execution_count": 49,
   "metadata": {},
   "outputs": [
    {
     "data": {
      "text/plain": [
       "pandas.core.series.Series"
      ]
     },
     "metadata": {},
     "output_type": "display_data"
    },
    {
     "data": {
      "text/plain": [
       "pandas.core.series.Series"
      ]
     },
     "metadata": {},
     "output_type": "display_data"
    }
   ],
   "source": [
    "display(type(rhc_df.age))\n",
    "display(type(rhc_df.sex))"
   ]
  },
  {
   "cell_type": "markdown",
   "metadata": {
    "ein.tags": "worksheet-0",
    "slideshow": {
     "slide_type": "-"
    }
   },
   "source": [
    "What do you find?\n",
    "\n"
   ]
  },
  {
   "cell_type": "markdown",
   "metadata": {
    "ein.tags": "worksheet-0",
    "slideshow": {
     "slide_type": "-"
    }
   },
   "source": [
    "### 3.2 Include age and sex in the regression\n",
    "\n",
    "Now allow the death to depend on gender and age, on top of that it may\n",
    "depend on rhc.  Note that it may not just depend on age in a linear\n",
    "fashion but in a much more complex way, so include not just $age$ but\n",
    "also $age^2$ and $age^3$ as explanatory variables."
   ]
  },
  {
   "cell_type": "code",
   "execution_count": 61,
   "metadata": {},
   "outputs": [
    {
     "name": "stdout",
     "output_type": "stream",
     "text": [
      "formula: y = [ 7.51575451]x + [ 56.49817795   0.45653254]\n",
      "Score:  0.0462061437395\n"
     ]
    }
   ],
   "source": [
    "rhc_df[\"sex\"] = rhc_df[\"sex\"].replace(\"Female\", 1)\n",
    "rhc_df[\"sex\"] = rhc_df[\"sex\"].replace(\"Male\", 0)\n",
    "\n",
    "X = rhc_df[[\"death\"]]\n",
    "Y = rhc_df.as_matrix([\"age\", \"sex\"]).astype(\"float32\")\n",
    "\n",
    "reg = LinearRegression()\n",
    "mdl =reg.fit(X, Y)\n",
    "\n",
    "m = mdl.coef_[0]\n",
    "b = mdl.intercept_\n",
    "print(\"formula: y = {0}x + {1}\".format(m, b))\n",
    "print('Score: ', reg.score(X, Y))"
   ]
  },
  {
   "cell_type": "markdown",
   "metadata": {
    "ein.tags": "worksheet-0",
    "slideshow": {
     "slide_type": "-"
    }
   },
   "source": [
    "Comment your results\n",
    "### y = [ 7.51575451]x + [ 56.49817795   0.45653254]\n"
   ]
  },
  {
   "cell_type": "markdown",
   "metadata": {
    "ein.tags": "worksheet-0",
    "slideshow": {
     "slide_type": "-"
    }
   },
   "source": [
    "## 4 Design matrices of the models\n",
    "\n",
    "Each linear model (and many other models) have associated _design\n",
    "matrices_.  Design matrix is the matrix of all your explanatory\n",
    "variables (all x-s) in the final numeric matrix form.  This includes\n",
    "* adding a constant column\n",
    "* converting categorical/non-numeric variables into suitable numeric\n",
    "variables\n",
    "\n",
    "You next task is to create/extract the design matrices of both of the\n",
    "models above, investigate their numeric properties (condition\n",
    "numbers), and solve the linear regression problem in matrix form.\n",
    "\n",
    "We did not have time in the class to talk about it, but there is a\n",
    "closed-form solution for the linear regression problem:  beta =\n",
    "$(X'X)^{-1} X'y$.  Compute this solution and compare with the regression\n",
    "package output above.\n",
    "\n",
    "\n",
    "### 4.1 First model\n",
    "\n",
    "#### 4.1.1 create the design matrix of it, X.\n",
    "\n",
    "Depending on the way you solved your problem, you may already have\n",
    "created it.  Depending on the way you solved the problem above, you\n",
    "may be able to extract it from the existing model.  You may also redo it\n",
    "manually here.  Remember:\n",
    "* include the constant term!\n",
    "* design matrix must be a _matrix_, not data frame or something else."
   ]
  },
  {
   "cell_type": "code",
   "execution_count": 67,
   "metadata": {},
   "outputs": [
    {
     "data": {
      "text/plain": [
       "matrix([[  0.     ,  70.25098,   0.     ],\n",
       "        [  1.     ,  78.17896,   1.     ],\n",
       "        [  0.     ,  46.09198,   1.     ],\n",
       "        ..., \n",
       "        [  1.     ,  80.48499,   0.     ],\n",
       "        [  1.     ,  67.37897,   0.     ],\n",
       "        [  1.     ,  54.66397,   1.     ]])"
      ]
     },
     "execution_count": 67,
     "metadata": {},
     "output_type": "execute_result"
    }
   ],
   "source": [
    "matrix = np.matrix(rhc_df[[\"death\", \"age\", \"sex\"]])\n",
    "matrix"
   ]
  },
  {
   "cell_type": "markdown",
   "metadata": {
    "ein.tags": "worksheet-0",
    "slideshow": {
     "slide_type": "-"
    }
   },
   "source": [
    "#### 4.1.2 Compute the condition number of X`X.\n",
    "\n",
    "You may choose whatever definition you like, but please report what\n",
    "are you using."
   ]
  },
  {
   "cell_type": "code",
   "execution_count": 69,
   "metadata": {},
   "outputs": [
    {
     "data": {
      "text/plain": [
       "matrix([[  3.72200000e+03,   2.38259857e+05,   1.62400000e+03],\n",
       "        [  2.38259857e+05,   2.31994357e+07,   1.57798257e+05],\n",
       "        [  1.62400000e+03,   1.57798257e+05,   2.54300000e+03]])"
      ]
     },
     "execution_count": 69,
     "metadata": {},
     "output_type": "execute_result"
    }
   ],
   "source": [
    "XtX = (matrix.T).dot(matrix)\n",
    "XtX"
   ]
  },
  {
   "cell_type": "markdown",
   "metadata": {
    "ein.tags": "worksheet-0",
    "slideshow": {
     "slide_type": "-"
    }
   },
   "source": [
    "#### 4.1.3 Compute your regression coefficients using the formula above.\n",
    "\n",
    "Note: you also need your outcome variable $y$ in numeric matrix\n",
    "form. "
   ]
  },
  {
   "cell_type": "code",
   "execution_count": 77,
   "metadata": {},
   "outputs": [
    {
     "data": {
      "text/plain": [
       "matrix([[  1.00000000e+00],\n",
       "        [ -3.27293531e-18],\n",
       "        [  1.86482774e-17]])"
      ]
     },
     "execution_count": 77,
     "metadata": {},
     "output_type": "execute_result"
    }
   ],
   "source": [
    "inverse = np.linalg.inv(XtX)\n",
    "coe = inverse.dot(matrix.T).dot(matrix[:,0])\n",
    "coe"
   ]
  },
  {
   "cell_type": "markdown",
   "metadata": {
    "ein.tags": "worksheet-0",
    "slideshow": {
     "slide_type": "-"
    }
   },
   "source": [
    "#### 4.1.4 Compare your coefficients here with the OLS results above."
   ]
  },
  {
   "cell_type": "code",
   "execution_count": 78,
   "metadata": {},
   "outputs": [
    {
     "data": {
      "text/plain": [
       "matrix([[  1.00000000e+00],\n",
       "        [ -3.27293531e-18],\n",
       "        [  1.86482774e-17]])"
      ]
     },
     "execution_count": 78,
     "metadata": {},
     "output_type": "execute_result"
    }
   ],
   "source": [
    "coe"
   ]
  }
 ],
 "metadata": {
  "kernelspec": {
   "display_name": "Python 3",
   "language": "python",
   "name": "python3"
  },
  "language_info": {
   "codemirror_mode": {
    "name": "ipython",
    "version": 3
   },
   "file_extension": ".py",
   "mimetype": "text/x-python",
   "name": "python",
   "nbconvert_exporter": "python",
   "pygments_lexer": "ipython3",
   "version": "3.6.3"
  },
  "name": "lab04_ols_causality_complete.ipynb"
 },
 "nbformat": 4,
 "nbformat_minor": 2
}
