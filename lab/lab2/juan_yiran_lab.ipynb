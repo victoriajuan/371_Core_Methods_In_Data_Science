{
 "cells": [
  {
   "cell_type": "markdown",
   "metadata": {
    "ein.tags": [
     "worksheet-0"
    ],
    "slideshow": {
     "slide_type": "-"
    }
   },
   "source": [
    "# Linear algebra\n",
    "\n",
    "This is a lab that helps you learn linear algebra (and the related numpy commands.)  Consult Greene \"Econometric Analysis\" Appendix A when solving these problems.\n"
   ]
  },
  {
   "cell_type": "markdown",
   "metadata": {},
   "source": [
    "Import appropriate packages"
   ]
  },
  {
   "cell_type": "code",
   "execution_count": 50,
   "metadata": {
    "autoscroll": "json-false",
    "ein.tags": [
     "worksheet-0"
    ],
    "slideshow": {
     "slide_type": "-"
    }
   },
   "outputs": [],
   "source": [
    "#your code here\n",
    "import numpy as np\n",
    "import pandas as pd\n",
    "from numpy.linalg import matrix_rank as rank\n",
    "from numpy.linalg import det, inv, eigvals, cond"
   ]
  },
  {
   "cell_type": "markdown",
   "metadata": {
    "ein.tags": [
     "worksheet-0"
    ],
    "slideshow": {
     "slide_type": "-"
    }
   },
   "source": [
    "## 1 Matrix multiplication\n",
    "* create the following matrices:\n",
    "a = [ 1 2 3 4], b = [5 6 7 8 ]'\n",
    "(note: b includes the transpose sign)\n",
    "* compute the following matrix products $a \\cdot b$ and $a' \\cdot b'$"
   ]
  },
  {
   "cell_type": "code",
   "execution_count": 51,
   "metadata": {
    "autoscroll": "json-false",
    "ein.tags": [
     "worksheet-0"
    ],
    "slideshow": {
     "slide_type": "-"
    }
   },
   "outputs": [
    {
     "data": {
      "text/plain": [
       "array([[ 5,  6,  7,  8],\n",
       "       [10, 12, 14, 16],\n",
       "       [15, 18, 21, 24],\n",
       "       [20, 24, 28, 32]])"
      ]
     },
     "metadata": {},
     "output_type": "display_data"
    },
    {
     "data": {
      "text/plain": [
       "array([[70]])"
      ]
     },
     "metadata": {},
     "output_type": "display_data"
    }
   ],
   "source": [
    "#your code here\n",
    "a = np.array([1,2,3,4]).reshape((4, 1))\n",
    "b = np.array([5,6,7,8]).reshape((4, 1)).T\n",
    "\n",
    "display(a.dot(b))\n",
    "display(a.T.dot(b.T))"
   ]
  },
  {
   "cell_type": "markdown",
   "metadata": {
    "ein.tags": [
     "worksheet-0"
    ],
    "slideshow": {
     "slide_type": "-"
    }
   },
   "source": [
    "## 2 Linear (in)dependence\n",
    "Consider three vectors:\n",
    "a = [1 2 3 4],\n",
    "b = [5 6 7 8] and\n",
    "c = [9 10 11 12]\n",
    "\n",
    "* are these vectors linearly independent?  Calculate the rank, a related determinant, and show how they are related/unrelated"
   ]
  },
  {
   "cell_type": "code",
   "execution_count": 52,
   "metadata": {
    "autoscroll": "json-false",
    "ein.tags": [
     "worksheet-0"
    ],
    "slideshow": {
     "slide_type": "-"
    }
   },
   "outputs": [
    {
     "name": "stdout",
     "output_type": "stream",
     "text": [
      "2\n"
     ]
    }
   ],
   "source": [
    "#your code here\n",
    "x = np.arange(1, 5).reshape((4, 1))\n",
    "y = np.arange(5, 9).reshape((4, 1))\n",
    "z = np.arange(9, 13).reshape((4, 1))\n",
    "a = np.concatenate((x, y, z), axis=1)\n",
    "print(rank(a))\n",
    "# print(det(a))"
   ]
  },
  {
   "cell_type": "markdown",
   "metadata": {
    "ein.tags": [
     "worksheet-0"
    ],
    "slideshow": {
     "slide_type": "-"
    }
   },
   "source": [
    "## 3 Find the inverses of the following matrices:\n",
    "\n",
    "\n",
    "A = [ <br/>\n",
    "    1 2 3 4 <br/>\n",
    "5 6 7 8 <br/>\n",
    "-1 10 11 12 <br/>\n",
    "13 14 15 17 ],\n",
    "\n",
    "B = [ <br/>\n",
    "    1 0 0 <br/>\n",
    "     0 4 0 <br/>\n",
    "     0 0 16]\n",
    "\n",
    "and\n",
    "\n",
    "C = [ <br/>\n",
    "    1 2 3 4 <br/>\n",
    "      5 6 7 8 <br/>\n",
    "      9 10 11 12 <br/>\n",
    "      13 14 15 17 ]\n",
    "\n",
    "* Check the results by left- and right multiplication of the inverse.  Explain."
   ]
  },
  {
   "cell_type": "code",
   "execution_count": 53,
   "metadata": {
    "autoscroll": "json-false",
    "ein.tags": [
     "worksheet-0"
    ],
    "slideshow": {
     "slide_type": "-"
    }
   },
   "outputs": [
    {
     "data": {
      "text/plain": [
       "array([[  1.00000000e+00,   0.00000000e+00,   0.00000000e+00,\n",
       "          0.00000000e+00],\n",
       "       [  0.00000000e+00,   1.00000000e+00,   0.00000000e+00,\n",
       "          0.00000000e+00],\n",
       "       [  0.00000000e+00,   7.10542736e-15,   1.00000000e+00,\n",
       "         -3.55271368e-15],\n",
       "       [  0.00000000e+00,   0.00000000e+00,   0.00000000e+00,\n",
       "          1.00000000e+00]])"
      ]
     },
     "metadata": {},
     "output_type": "display_data"
    },
    {
     "data": {
      "text/plain": [
       "array([[ 1.,  0.,  0.],\n",
       "       [ 0.,  1.,  0.],\n",
       "       [ 0.,  0.,  1.]])"
      ]
     },
     "metadata": {},
     "output_type": "display_data"
    },
    {
     "data": {
      "text/plain": [
       "array([[  1.,   0.,   1.,   0.],\n",
       "       [ -4.,   0.,  -4.,   0.],\n",
       "       [ -4.,   8.,   0.,   0.],\n",
       "       [  0.,  16.,   0.,   1.]])"
      ]
     },
     "metadata": {},
     "output_type": "display_data"
    }
   ],
   "source": [
    "#your code here\n",
    "A = np.array([[1, 2, 3, 4], [5, 6, 7, 8], [-1, 10, 11, 12], [13, 14, 15, 17]])\n",
    "A_inverse = inv(A)\n",
    "# check\n",
    "result1 = A.dot(A_inverse)\n",
    "display(result1)\n",
    "\n",
    "B = np.array([[1, 0, 0], [0, 4, 0], [0, 0, 16]])\n",
    "B_inverse = inv(B)\n",
    "# check \n",
    "result2 = B.dot(B_inverse)\n",
    "display(result2)\n",
    "\n",
    "C = np.array([[1, 2, 3, 4], [5, 6, 7, 8], [9, 10, 11, 12], [13, 14, 15, 17]])\n",
    "C_inverse = inv(C)\n",
    "# check\n",
    "result3 = C.dot(C_inverse)\n",
    "display(result3)"
   ]
  },
  {
   "cell_type": "markdown",
   "metadata": {
    "ein.tags": [
     "worksheet-0"
    ],
    "slideshow": {
     "slide_type": "-"
    }
   },
   "source": [
    "## 4 Characteristic roots\n",
    "* Find the roots (eigenvalues) of the matrices A, B, C above.\n",
    "* Calculate the condition numbers of these matrices in two ways: the default numpy way, and in this way as it is explained in Greene (2003, page 829)\n",
    "* Explain the results"
   ]
  },
  {
   "cell_type": "code",
   "execution_count": 54,
   "metadata": {
    "autoscroll": "json-false",
    "ein.tags": [
     "worksheet-0"
    ],
    "slideshow": {
     "slide_type": "-"
    }
   },
   "outputs": [
    {
     "name": "stdout",
     "output_type": "stream",
     "text": [
      "299.050204082 16.0 7.60469682786e+16\n"
     ]
    }
   ],
   "source": [
    "#your code here\n",
    "A_eig = eigvals(A)\n",
    "B_eig = eigvals(B)\n",
    "C_eig = eigvals(C)\n",
    "# condition number\n",
    "a = cond(A)\n",
    "b = cond(B)\n",
    "c = cond(C)\n",
    "\n",
    "print(a, b, c)"
   ]
  },
  {
   "cell_type": "code",
   "execution_count": null,
   "metadata": {},
   "outputs": [],
   "source": []
  }
 ],
 "metadata": {
  "kernelspec": {
   "display_name": "Python 3",
   "language": "python",
   "name": "python3"
  },
  "language_info": {
   "codemirror_mode": {
    "name": "ipython",
    "version": 3
   },
   "file_extension": ".py",
   "mimetype": "text/x-python",
   "name": "python",
   "nbconvert_exporter": "python",
   "pygments_lexer": "ipython3",
   "version": "3.6.3"
  },
  "name": "01_linear_algebra_solutions.ipynb"
 },
 "nbformat": 4,
 "nbformat_minor": 2
}
