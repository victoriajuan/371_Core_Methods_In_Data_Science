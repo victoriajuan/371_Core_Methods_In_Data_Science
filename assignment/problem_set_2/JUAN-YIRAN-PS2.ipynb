{
 "cells": [
  {
   "cell_type": "code",
   "execution_count": 28,
   "metadata": {},
   "outputs": [],
   "source": [
    "import numpy as np\n",
    "import pandas as pd"
   ]
  },
  {
   "cell_type": "markdown",
   "metadata": {},
   "source": [
    "# 1.1 Data Input"
   ]
  },
  {
   "cell_type": "code",
   "execution_count": 29,
   "metadata": {},
   "outputs": [],
   "source": [
    "å = 0.85\n",
    "e = 0.00001"
   ]
  },
  {
   "cell_type": "markdown",
   "metadata": {},
   "source": [
    "# 1.2 Creating an Adjacency Matrix"
   ]
  },
  {
   "cell_type": "code",
   "execution_count": 30,
   "metadata": {},
   "outputs": [
    {
     "name": "stdout",
     "output_type": "stream",
     "text": [
      "[[ 1.  0.  2.  0.  4.  3.]\n",
      " [ 3.  0.  1.  1.  0.  0.]\n",
      " [ 2.  0.  4.  0.  1.  0.]\n",
      " [ 0.  0.  1.  0.  0.  1.]\n",
      " [ 8.  0.  3.  0.  5.  2.]\n",
      " [ 0.  0.  0.  0.  0.  0.]]\n"
     ]
    }
   ],
   "source": [
    "am = np.matrix('1 0 2 0 4 3; 3 0 1 1 0 0; 2 0 4 0 1 0; 0 0 1 0 0 1; 8 0 3 0 5 2; 0 0 0 0 0 0', dtype=float)\n",
    "print(am)"
   ]
  },
  {
   "cell_type": "markdown",
   "metadata": {},
   "source": [
    "# 1.3 Modifying the Adjacency Matrix"
   ]
  },
  {
   "cell_type": "markdown",
   "metadata": {},
   "source": [
    "## diagonal of matrix to zero"
   ]
  },
  {
   "cell_type": "code",
   "execution_count": 34,
   "metadata": {},
   "outputs": [
    {
     "data": {
      "text/plain": [
       "matrix([[ 0.,  0.,  2.,  0.,  4.,  3.],\n",
       "        [ 3.,  0.,  1.,  1.,  0.,  0.],\n",
       "        [ 2.,  0.,  0.,  0.,  1.,  0.],\n",
       "        [ 0.,  0.,  1.,  0.,  0.,  1.],\n",
       "        [ 8.,  0.,  3.,  0.,  0.,  2.],\n",
       "        [ 0.,  0.,  0.,  0.,  0.,  0.]])"
      ]
     },
     "execution_count": 34,
     "metadata": {},
     "output_type": "execute_result"
    }
   ],
   "source": [
    "def digonalZero(am):\n",
    "    np.fill_diagonal(am, 0)\n",
    "    \n",
    "digonalZero(am)\n",
    "am"
   ]
  },
  {
   "cell_type": "markdown",
   "metadata": {},
   "source": [
    "## normalize the columns of the matrix"
   ]
  },
  {
   "cell_type": "code",
   "execution_count": 5,
   "metadata": {},
   "outputs": [
    {
     "name": "stdout",
     "output_type": "stream",
     "text": [
      "[[ 0.          0.          0.28571429  0.          0.8         0.5       ]\n",
      " [ 0.23076923  0.          0.14285714  1.          0.          0.        ]\n",
      " [ 0.15384615  0.          0.          0.          0.2         0.        ]\n",
      " [ 0.          0.          0.14285714  0.          0.          0.16666667]\n",
      " [ 0.61538462  0.          0.42857143  0.          0.          0.33333333]\n",
      " [ 0.          0.          0.          0.          0.          0.        ]]\n"
     ]
    }
   ],
   "source": [
    "def normalizeCol():\n",
    "    # sum up each column \n",
    "    sum = am.sum(axis=0)\n",
    "    # divide each entry in a column by the sum of that column\n",
    "    H = np.divide(am, sum, out=np.zeros_like(am), where=sum!=0)\n",
    "    return H\n",
    "\n"
   ]
  },
  {
   "cell_type": "markdown",
   "metadata": {},
   "source": [
    "# 1.4 Identifying the Dangling Nodes"
   ]
  },
  {
   "cell_type": "code",
   "execution_count": 6,
   "metadata": {},
   "outputs": [
    {
     "name": "stdout",
     "output_type": "stream",
     "text": [
      "[[ 0.  1.  0.  0.  0.  0.]]\n"
     ]
    }
   ],
   "source": [
    "# if the sum of each column is 0, it means there is no citation\n",
    "danglingNode = (sum == 0).astype(float)\n",
    "print(danglingNode)"
   ]
  },
  {
   "cell_type": "markdown",
   "metadata": {},
   "source": [
    "# 1.5 Calculating the Stationary Vector"
   ]
  },
  {
   "cell_type": "markdown",
   "metadata": {},
   "source": [
    "## Article Vector"
   ]
  },
  {
   "cell_type": "code",
   "execution_count": 7,
   "metadata": {},
   "outputs": [
    {
     "name": "stdout",
     "output_type": "stream",
     "text": [
      "[[ 0.21428571]\n",
      " [ 0.35714286]\n",
      " [ 0.14285714]\n",
      " [ 0.07142857]\n",
      " [ 0.14285714]\n",
      " [ 0.07142857]]\n"
     ]
    }
   ],
   "source": [
    "# total number of articles published by all of the journals\n",
    "Atot = np.matrix(\"3; 5; 2; 1; 2; 1\")\n",
    "\n",
    "# column vector of the number of articles published in each journal over the (five-year) target window, \n",
    "# normalized so that its entries sum to 1\n",
    "a = Atot / Atot.sum()\n",
    "\n",
    "print(a)"
   ]
  },
  {
   "cell_type": "markdown",
   "metadata": {},
   "source": [
    "## Initial Vector"
   ]
  },
  {
   "cell_type": "code",
   "execution_count": 8,
   "metadata": {},
   "outputs": [
    {
     "name": "stdout",
     "output_type": "stream",
     "text": [
      "[[ 0.16666667]\n",
      " [ 0.16666667]\n",
      " [ 0.16666667]\n",
      " [ 0.16666667]\n",
      " [ 0.16666667]\n",
      " [ 0.16666667]]\n"
     ]
    }
   ],
   "source": [
    "pi0 = np.ones_like(a) / am.shape[0]\n",
    "print(pi0)"
   ]
  },
  {
   "cell_type": "markdown",
   "metadata": {},
   "source": [
    "## Influence Vector"
   ]
  },
  {
   "cell_type": "code",
   "execution_count": 9,
   "metadata": {},
   "outputs": [],
   "source": [
    "def calPiK1(H, piK, danglingNode, a):\n",
    "    # π(k+1) euqation\n",
    "    p1 = (å * H).dot(piK)\n",
    "    p2 = (å * danglingNode).dot(piK)\n",
    "    p2 = p2  + (1 - å)\n",
    "    p2 = np.multiply(p2, a)\n",
    "    # return piK1\n",
    "    return p1 + p2\n",
    "\n",
    "def iteration(H, piS, danglingNode, a):\n",
    "    # initialize the piK1 and norm\n",
    "    piK1 = calPiK1(H, piS, danglingNode, a)\n",
    "    norm = np.linalg.norm((piK1 - pi0), ord = 1)\n",
    "    \n",
    "    counter = 0\n",
    "    # while residual is less than e, piK ~ piK1 is the influence vector\n",
    "    while norm > e:\n",
    "        # calculate the norm again and update the current influence vector to iterate\n",
    "        piK1 = calPiK1(H, piK, danglingNode, a)\n",
    "        norm = np.linalg.norm((piK1 - piK), ord = 1)\n",
    "        piK = piK1\n",
    "        counter += 1\n",
    "    return counter, piK1"
   ]
  },
  {
   "cell_type": "code",
   "execution_count": 11,
   "metadata": {},
   "outputs": [
    {
     "name": "stdout",
     "output_type": "stream",
     "text": [
      "Iterated 16 times\n",
      "Influence vector is: [[ 0.29639248]\n",
      " [ 0.23860576]\n",
      " [ 0.13357154]\n",
      " [ 0.0449906 ]\n",
      " [ 0.26123859]\n",
      " [ 0.02520101]]\n"
     ]
    }
   ],
   "source": [
    "counter, piK1 = iteration(H, pi0, danglingNode, a)\n",
    "print(\"Iterated %i times\" %(counter))\n",
    "print(\"Influence vector is: {0}\".format(piK1))"
   ]
  },
  {
   "cell_type": "markdown",
   "metadata": {},
   "source": [
    "# 1.6 Calculationg the EigenFactor (EF) Sco"
   ]
  },
  {
   "cell_type": "code",
   "execution_count": null,
   "metadata": {},
   "outputs": [],
   "source": []
  },
  {
   "cell_type": "code",
   "execution_count": null,
   "metadata": {},
   "outputs": [],
   "source": []
  }
 ],
 "metadata": {
  "kernelspec": {
   "display_name": "Python 3",
   "language": "python",
   "name": "python3"
  },
  "language_info": {
   "codemirror_mode": {
    "name": "ipython",
    "version": 3
   },
   "file_extension": ".py",
   "mimetype": "text/x-python",
   "name": "python",
   "nbconvert_exporter": "python",
   "pygments_lexer": "ipython3",
   "version": "3.6.3"
  }
 },
 "nbformat": 4,
 "nbformat_minor": 2
}
