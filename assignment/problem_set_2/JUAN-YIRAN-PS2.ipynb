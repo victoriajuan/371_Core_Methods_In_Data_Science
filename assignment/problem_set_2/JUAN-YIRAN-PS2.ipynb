{
 "cells": [
  {
   "cell_type": "code",
   "execution_count": 1,
   "metadata": {},
   "outputs": [],
   "source": [
    "import numpy as np\n",
    "import pandas as pd"
   ]
  },
  {
   "cell_type": "markdown",
   "metadata": {},
   "source": [
    "# 1.1 Data Input"
   ]
  },
  {
   "cell_type": "code",
   "execution_count": 2,
   "metadata": {},
   "outputs": [],
   "source": [
    "å = 0.85\n",
    "e = 0.00001"
   ]
  },
  {
   "cell_type": "markdown",
   "metadata": {},
   "source": [
    "# 1.2 Creating an Adjacency Matrix"
   ]
  },
  {
   "cell_type": "code",
   "execution_count": 3,
   "metadata": {},
   "outputs": [
    {
     "name": "stdout",
     "output_type": "stream",
     "text": [
      "[[ 1.  0.  2.  0.  4.  3.]\n",
      " [ 3.  0.  1.  1.  0.  0.]\n",
      " [ 2.  0.  4.  0.  1.  0.]\n",
      " [ 0.  0.  1.  0.  0.  1.]\n",
      " [ 8.  0.  3.  0.  5.  2.]\n",
      " [ 0.  0.  0.  0.  0.  0.]]\n"
     ]
    }
   ],
   "source": [
    "am = np.matrix('1 0 2 0 4 3; 3 0 1 1 0 0; 2 0 4 0 1 0; 0 0 1 0 0 1; 8 0 3 0 5 2; 0 0 0 0 0 0', dtype=float)\n",
    "print(am)"
   ]
  },
  {
   "cell_type": "markdown",
   "metadata": {},
   "source": [
    "# 1.3 Modifying the Adjacency Matrix"
   ]
  },
  {
   "cell_type": "markdown",
   "metadata": {},
   "source": [
    "## diagonal of matrix to zero"
   ]
  },
  {
   "cell_type": "code",
   "execution_count": 4,
   "metadata": {},
   "outputs": [],
   "source": [
    "def digonalZero(am):\n",
    "    np.fill_diagonal(am, 0)"
   ]
  },
  {
   "cell_type": "code",
   "execution_count": 5,
   "metadata": {},
   "outputs": [
    {
     "data": {
      "text/plain": [
       "matrix([[ 0.,  0.,  2.,  0.,  4.,  3.],\n",
       "        [ 3.,  0.,  1.,  1.,  0.,  0.],\n",
       "        [ 2.,  0.,  0.,  0.,  1.,  0.],\n",
       "        [ 0.,  0.,  1.,  0.,  0.,  1.],\n",
       "        [ 8.,  0.,  3.,  0.,  0.,  2.],\n",
       "        [ 0.,  0.,  0.,  0.,  0.,  0.]])"
      ]
     },
     "execution_count": 5,
     "metadata": {},
     "output_type": "execute_result"
    }
   ],
   "source": [
    "digonalZero(am)\n",
    "am"
   ]
  },
  {
   "cell_type": "markdown",
   "metadata": {},
   "source": [
    "## normalize the columns of the matrix"
   ]
  },
  {
   "cell_type": "code",
   "execution_count": 6,
   "metadata": {},
   "outputs": [],
   "source": [
    "def normalizeCol(am):\n",
    "    # sum up each column \n",
    "    sum = am.sum(axis=0)\n",
    "    # divide each entry in a column by the sum of that column\n",
    "    return np.divide(am, sum, out=np.zeros_like(am), where=sum!=0)"
   ]
  },
  {
   "cell_type": "code",
   "execution_count": 7,
   "metadata": {},
   "outputs": [
    {
     "data": {
      "text/plain": [
       "matrix([[ 0.        ,  0.        ,  0.28571429,  0.        ,  0.8       ,\n",
       "          0.5       ],\n",
       "        [ 0.23076923,  0.        ,  0.14285714,  1.        ,  0.        ,\n",
       "          0.        ],\n",
       "        [ 0.15384615,  0.        ,  0.        ,  0.        ,  0.2       ,\n",
       "          0.        ],\n",
       "        [ 0.        ,  0.        ,  0.14285714,  0.        ,  0.        ,\n",
       "          0.16666667],\n",
       "        [ 0.61538462,  0.        ,  0.42857143,  0.        ,  0.        ,\n",
       "          0.33333333],\n",
       "        [ 0.        ,  0.        ,  0.        ,  0.        ,  0.        ,\n",
       "          0.        ]])"
      ]
     },
     "execution_count": 7,
     "metadata": {},
     "output_type": "execute_result"
    }
   ],
   "source": [
    "H = normalizeCol(am)\n",
    "H"
   ]
  },
  {
   "cell_type": "markdown",
   "metadata": {},
   "source": [
    "# 1.4 Identifying the Dangling Nodes"
   ]
  },
  {
   "cell_type": "code",
   "execution_count": 8,
   "metadata": {},
   "outputs": [],
   "source": [
    "def danglingNode(am):\n",
    "    sum = am.sum(axis=0)\n",
    "    # if the sum of each column is 0, it means there is no citation\n",
    "#     danglingNode = (sum == 0).astype(float)\n",
    "    return (sum == 0).astype(float)"
   ]
  },
  {
   "cell_type": "code",
   "execution_count": 9,
   "metadata": {},
   "outputs": [
    {
     "data": {
      "text/plain": [
       "matrix([[ 0.,  1.,  0.,  0.,  0.,  0.]])"
      ]
     },
     "execution_count": 9,
     "metadata": {},
     "output_type": "execute_result"
    }
   ],
   "source": [
    "danglingNode = danglingNode(am)\n",
    "danglingNode"
   ]
  },
  {
   "cell_type": "markdown",
   "metadata": {},
   "source": [
    "# 1.5 Calculating the Stationary Vector"
   ]
  },
  {
   "cell_type": "markdown",
   "metadata": {},
   "source": [
    "## Article Vector"
   ]
  },
  {
   "cell_type": "code",
   "execution_count": 10,
   "metadata": {},
   "outputs": [],
   "source": [
    "def articleVector(npMatrix):\n",
    "    '''npMatrix is the total number of articles published by all of the journals'''\n",
    "    # column vector of the number of articles published in each journal over the (five-year) target window, \n",
    "    # normalized so that its entries sum to 1\n",
    "    return npMatrix / npMatrix.sum()"
   ]
  },
  {
   "cell_type": "code",
   "execution_count": 11,
   "metadata": {},
   "outputs": [
    {
     "data": {
      "text/plain": [
       "matrix([[ 0.21428571],\n",
       "        [ 0.14285714],\n",
       "        [ 0.35714286],\n",
       "        [ 0.07142857],\n",
       "        [ 0.14285714],\n",
       "        [ 0.07142857]])"
      ]
     },
     "execution_count": 11,
     "metadata": {},
     "output_type": "execute_result"
    }
   ],
   "source": [
    "a = articleVector(np.matrix(\"3; 2; 5; 1; 2; 1\"))\n",
    "a"
   ]
  },
  {
   "cell_type": "markdown",
   "metadata": {},
   "source": [
    "## Initial Vector"
   ]
  },
  {
   "cell_type": "code",
   "execution_count": 12,
   "metadata": {},
   "outputs": [],
   "source": [
    "def initialVector(a, am):\n",
    "    return np.ones_like(a) / am.shape[0]"
   ]
  },
  {
   "cell_type": "code",
   "execution_count": 13,
   "metadata": {},
   "outputs": [
    {
     "data": {
      "text/plain": [
       "matrix([[ 0.16666667],\n",
       "        [ 0.16666667],\n",
       "        [ 0.16666667],\n",
       "        [ 0.16666667],\n",
       "        [ 0.16666667],\n",
       "        [ 0.16666667]])"
      ]
     },
     "execution_count": 13,
     "metadata": {},
     "output_type": "execute_result"
    }
   ],
   "source": [
    "pi0 = initialVector(a, am)\n",
    "pi0"
   ]
  },
  {
   "cell_type": "markdown",
   "metadata": {},
   "source": [
    "## Influence Vector"
   ]
  },
  {
   "cell_type": "code",
   "execution_count": 14,
   "metadata": {},
   "outputs": [],
   "source": [
    "def calPiK1(H, piK, danglingNode, a):\n",
    "    # π(k+1) euqation\n",
    "    p1 = (å * H).dot(piK)\n",
    "    p2 = (å * danglingNode).dot(piK)\n",
    "    p2 = p2  + (1 - å)\n",
    "    p2 = np.multiply(p2, a)\n",
    "    # return piK1\n",
    "    return p1 + p2\n",
    "\n",
    "def iteration(H, pi0, danglingNode, a):\n",
    "    # initialize the piK1 and norm\n",
    "    piK1 = calPiK1(H, pi0, danglingNode, a)\n",
    "    norm = np.linalg.norm((piK1 - pi0))\n",
    "    # first iteration piK is equal to pi0\n",
    "    piK = pi0\n",
    "    \n",
    "    counter = 0\n",
    "    # while residual is less than e, piK ~ piK1 is the influence vector\n",
    "    while norm > e:\n",
    "        # calculate the norm again and update the current influence vector to iterate\n",
    "        piK1 = calPiK1(H, piK, danglingNode, a)\n",
    "        norm = np.linalg.norm((piK1 - piK))\n",
    "        piK = piK1\n",
    "        counter += 1\n",
    "    return counter, piK1"
   ]
  },
  {
   "cell_type": "code",
   "execution_count": 15,
   "metadata": {},
   "outputs": [
    {
     "name": "stdout",
     "output_type": "stream",
     "text": [
      "Iterated 17 times\n",
      "Influence vector is: [[ 0.30402454]\n",
      " [ 0.16360216]\n",
      " [ 0.18979672]\n",
      " [ 0.04661902]\n",
      " [ 0.2753102 ]\n",
      " [ 0.02064736]]\n"
     ]
    }
   ],
   "source": [
    "counter, iv = iteration(H, pi0, danglingNode, a)\n",
    "print(\"Iterated %i times\" %(counter))\n",
    "print(\"Influence vector is: {0}\".format(iv))"
   ]
  },
  {
   "cell_type": "markdown",
   "metadata": {},
   "source": [
    "# 1.6 Calculationg the EigenFactor (EF) Sco"
   ]
  },
  {
   "cell_type": "code",
   "execution_count": 16,
   "metadata": {},
   "outputs": [],
   "source": [
    "def calEFSco(H, pi):\n",
    "    Hpi = H.dot(pi)\n",
    "    return 100*(Hpi/Hpi.sum())"
   ]
  },
  {
   "cell_type": "code",
   "execution_count": 17,
   "metadata": {},
   "outputs": [
    {
     "data": {
      "text/plain": [
       "matrix([[ 34.05071853],\n",
       "        [ 17.20381588],\n",
       "        [ 12.17543157],\n",
       "        [  3.65317104],\n",
       "        [ 32.91686298],\n",
       "        [  0.        ]])"
      ]
     },
     "execution_count": 17,
     "metadata": {},
     "output_type": "execute_result"
    }
   ],
   "source": [
    "calEFSco(H, iv)"
   ]
  },
  {
   "cell_type": "markdown",
   "metadata": {},
   "source": [
    "# Real data"
   ]
  },
  {
   "cell_type": "code",
   "execution_count": 21,
   "metadata": {},
   "outputs": [],
   "source": [
    "import numpy as np\n",
    "import pandas as pd\n",
    "import time\n",
    "\n",
    "def createAM(nodes, link):\n",
    "    am = np.zeros((nodes, nodes))\n",
    "    journal = []\n",
    "    with open(link) as f:\n",
    "        for i, col in enumerate(f):\n",
    "            journal.append(col[1])\n",
    "            col = col.split(',')\n",
    "            am[int(col[1])][int(col[0])] = int(col[2])\n",
    "    return journal, am\n",
    "\n",
    "def digonalZero(am):\n",
    "    np.fill_diagonal(am, 0)\n",
    "\n",
    "def normalizeCol(am):\n",
    "    # sum up each column \n",
    "    sum = am.sum(axis=0)\n",
    "    # divide each entry in a column by the sum of that column\n",
    "    return np.divide(am, sum, out=np.zeros_like(am), where=sum!=0)\n",
    "\n",
    "def danglingNode(am):\n",
    "    sum = am.sum(axis=0)\n",
    "    # if the sum of each column is 0, it means there is no citation\n",
    "    return (sum == 0).astype(float)\n",
    "\n",
    "def articleVector(npMatrix):\n",
    "    '''npMatrix is the total number of articles published by all of the journals'''\n",
    "    # column vector of the number of articles published in each journal over the (five-year) target window, \n",
    "    # normalized so that its entries sum to 1\n",
    "    return npMatrix / npMatrix.sum()\n",
    "\n",
    "def initialVector(a, am):\n",
    "    return np.ones_like(a) / am.shape[0]\n",
    "\n",
    "def calPiK1(H, piK, danglingNode, a):\n",
    "    # π(k+1) euqation\n",
    "    p1 = (å * H).dot(piK)\n",
    "    p2 = (å * danglingNode).dot(piK)\n",
    "    p2 = p2  + (1 - å)\n",
    "    p2 = np.multiply(p2, a)\n",
    "    # return piK1\n",
    "    return p1 + p2\n",
    "\n",
    "def iteration(H, pi0, danglingNode, a):\n",
    "    # initialize the piK1 and norm\n",
    "    piK1 = calPiK1(H, pi0, danglingNode, a)\n",
    "    norm = np.linalg.norm((piK1 - pi0))\n",
    "    # first iteration piK is equal to pi0\n",
    "    piK = pi0\n",
    "    \n",
    "    counter = 0\n",
    "    # while residual is less than e, piK ~ piK1 is the influence vector\n",
    "    while norm > e:\n",
    "        # calculate the norm again and update the current influence vector to iterate\n",
    "        piK1 = calPiK1(H, piK, danglingNode, a)\n",
    "        norm = np.linalg.norm((piK1 - piK))\n",
    "        piK = piK1\n",
    "        counter += 1\n",
    "    return counter, piK1\n",
    "\n",
    "def calEFSco(H, pi):\n",
    "    Hpi = H.dot(pi)\n",
    "    return 100*(Hpi/Hpi.sum())"
   ]
  },
  {
   "cell_type": "code",
   "execution_count": 22,
   "metadata": {},
   "outputs": [],
   "source": [
    "start_time = time.time()\n",
    "journal, am = createAM(10748, './links.txt')\n",
    "digonalZero(am)\n",
    "H = normalizeCol(am)\n",
    "danglingNode = danglingNode(am)\n",
    "tempAM = np.empty((10748))\n",
    "tempAM[:] = 1\n",
    "articleVector = articleVector(tempAM)\n",
    "intialVector = initialVector(articleVector, am)\n",
    "counter, influenceVector = iteration(H, intialVector, danglingNode, articleVector)\n",
    "eiganfactor = calEFSco(H, influenceVector)"
   ]
  },
  {
   "cell_type": "code",
   "execution_count": 23,
   "metadata": {},
   "outputs": [
    {
     "name": "stdout",
     "output_type": "stream",
     "text": [
      "4408: 1.4475384035784298\n",
      "4801: 1.412037574246075\n",
      "6610: 1.2346058183328048\n",
      "2056: 0.6793346438705757\n",
      "6919: 0.6646919701918372\n",
      "6667: 0.634252774272873\n",
      "4024: 0.5768669411286474\n",
      "6523: 0.4806087244452295\n",
      "8930: 0.4775893614030741\n",
      "6857: 0.43962239580152657\n",
      "5966: 0.42962702460107494\n",
      "1995: 0.38598353313554246\n",
      "1935: 0.3850483689431774\n",
      "3480: 0.3795244737968881\n",
      "4598: 0.372625313922009\n",
      "2880: 0.33019385958105496\n",
      "3314: 0.3273062302440311\n",
      "6569: 0.319195230539843\n",
      "5035: 0.31659068819564273\n",
      "1212: 0.3112124767619225\n"
     ]
    }
   ],
   "source": [
    "for j in eiganfactor.argsort()[::-1][:20]:\n",
    "    print(\"{0}: {1}\".format(j, eiganfactor[j]))"
   ]
  },
  {
   "cell_type": "code",
   "execution_count": 24,
   "metadata": {},
   "outputs": [
    {
     "name": "stdout",
     "output_type": "stream",
     "text": [
      "Iteration time: 21\n",
      "Run time: 48.41633892059326 seconds.\n"
     ]
    }
   ],
   "source": [
    "# iterated 21 times\n",
    "print(\"Iteration time: %i\" %(counter))\n",
    "# ≈ 33 seconds\n",
    "print(\"Run time: %s seconds.\" %(time.time() - start_time))"
   ]
  },
  {
   "cell_type": "code",
   "execution_count": null,
   "metadata": {},
   "outputs": [],
   "source": []
  }
 ],
 "metadata": {
  "kernelspec": {
   "display_name": "Python 3",
   "language": "python",
   "name": "python3"
  },
  "language_info": {
   "codemirror_mode": {
    "name": "ipython",
    "version": 3
   },
   "file_extension": ".py",
   "mimetype": "text/x-python",
   "name": "python",
   "nbconvert_exporter": "python",
   "pygments_lexer": "ipython3",
   "version": "3.6.3"
  }
 },
 "nbformat": 4,
 "nbformat_minor": 2
}
